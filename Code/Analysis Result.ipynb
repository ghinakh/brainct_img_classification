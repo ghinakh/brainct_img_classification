{
  "cells": [
    {
      "cell_type": "code",
      "execution_count": 1,
      "metadata": {
        "id": "G2HAJLkDdDXi"
      },
      "outputs": [],
      "source": [
        "import pickle"
      ]
    },
    {
      "cell_type": "markdown",
      "metadata": {
        "id": "67RfkBGiR9y9"
      },
      "source": [
        "### Analysis on Convolution Stride"
      ]
    },
    {
      "cell_type": "code",
      "execution_count": 2,
      "metadata": {
        "id": "bDF7gbUshL6S"
      },
      "outputs": [],
      "source": [
        "with open('results_cnn_convstride.pkl', 'rb') as fp:\n",
        "    res_stride = pickle.load(fp)\n",
        "    result_pickle_stride = res_stride"
      ]
    },
    {
      "cell_type": "code",
      "execution_count": 3,
      "metadata": {
        "colab": {
          "base_uri": "https://localhost:8080/"
        },
        "id": "urwdAfzPhSYc",
        "outputId": "4db42b18-037d-4339-92f5-4f080eecc094"
      },
      "outputs": [
        {
          "data": {
            "text/plain": [
              "['Kernel Size 1',\n",
              " 'Kernel Size 5',\n",
              " 'Kernel Size 10',\n",
              " 'Kernel Size 25',\n",
              " 'Kernel Size 50',\n",
              " 'Kernel Size 100']"
            ]
          },
          "execution_count": 3,
          "metadata": {},
          "output_type": "execute_result"
        }
      ],
      "source": [
        "result_pickle_stride['params']"
      ]
    },
    {
      "cell_type": "code",
      "execution_count": 4,
      "metadata": {
        "colab": {
          "base_uri": "https://localhost:8080/"
        },
        "id": "Cc5hcPRXiGvQ",
        "outputId": "a0277b27-3045-4b1f-ac9e-4c03dd76d982"
      },
      "outputs": [
        {
          "data": {
            "text/plain": [
              "[0.9901960784313726,\n",
              " 0.9803921568627451,\n",
              " 0.9901960784313726,\n",
              " 0.7892156862745098,\n",
              " 0.5686274509803921,\n",
              " 0.5147058823529411]"
            ]
          },
          "execution_count": 4,
          "metadata": {},
          "output_type": "execute_result"
        }
      ],
      "source": [
        "result_pickle_stride['accuracy_train']"
      ]
    },
    {
      "cell_type": "code",
      "execution_count": 5,
      "metadata": {
        "colab": {
          "base_uri": "https://localhost:8080/"
        },
        "id": "7ZVmr72liCPh",
        "outputId": "ba4fca4b-db39-40fc-ac95-bed354deb2e8"
      },
      "outputs": [
        {
          "data": {
            "text/plain": [
              "[0.9807692307692307,\n",
              " 0.9807692307692307,\n",
              " 0.9807692307692307,\n",
              " 0.6923076923076923,\n",
              " 0.6346153846153846,\n",
              " 0.5576923076923077]"
            ]
          },
          "execution_count": 5,
          "metadata": {},
          "output_type": "execute_result"
        }
      ],
      "source": [
        "result_pickle_stride['accuracy_test']"
      ]
    },
    {
      "cell_type": "code",
      "execution_count": 6,
      "metadata": {
        "colab": {
          "base_uri": "https://localhost:8080/"
        },
        "id": "vnbJume3iKNb",
        "outputId": "4d3c684d-d6db-434a-bef4-31b0092a8192"
      },
      "outputs": [
        {
          "name": "stdout",
          "output_type": "stream",
          "text": [
            "              precision    recall  f1-score   support\n",
            "\n",
            "           0       0.93      1.00      0.97        14\n",
            "           1       1.00      0.94      0.97        16\n",
            "           2       1.00      1.00      1.00        22\n",
            "\n",
            "    accuracy                           0.98        52\n",
            "   macro avg       0.98      0.98      0.98        52\n",
            "weighted avg       0.98      0.98      0.98        52\n",
            "\n"
          ]
        }
      ],
      "source": [
        "print(result_pickle_stride['classification_report_test'][0])"
      ]
    },
    {
      "cell_type": "code",
      "execution_count": 7,
      "metadata": {
        "colab": {
          "base_uri": "https://localhost:8080/"
        },
        "id": "IttjoTGFbIUe",
        "outputId": "ff975e14-0ff1-4af4-da08-7eca442c2467"
      },
      "outputs": [
        {
          "name": "stdout",
          "output_type": "stream",
          "text": [
            "[[14  0  0]\n",
            " [ 1 15  0]\n",
            " [ 0  0 22]]\n"
          ]
        }
      ],
      "source": [
        "print(result_pickle_stride['confusion_matrix_test'][0])"
      ]
    },
    {
      "cell_type": "code",
      "execution_count": 8,
      "metadata": {
        "id": "c6TqPfEviH8K"
      },
      "outputs": [],
      "source": [
        "baseline = result_pickle_stride['confusion_matrix_test'][0]"
      ]
    },
    {
      "cell_type": "code",
      "execution_count": 9,
      "metadata": {
        "colab": {
          "base_uri": "https://localhost:8080/"
        },
        "id": "AyRHNlsksMAj",
        "outputId": "e4d4a929-dfe3-4c21-df19-78516bcb33f9"
      },
      "outputs": [
        {
          "data": {
            "text/plain": [
              "array([[14,  0,  0],\n",
              "       [ 1, 15,  0],\n",
              "       [ 0,  0, 22]], dtype=int64)"
            ]
          },
          "execution_count": 9,
          "metadata": {},
          "output_type": "execute_result"
        }
      ],
      "source": [
        "baseline"
      ]
    },
    {
      "cell_type": "code",
      "execution_count": 10,
      "metadata": {
        "colab": {
          "base_uri": "https://localhost:8080/",
          "height": 564
        },
        "id": "9oSWD2nyhjJh",
        "outputId": "8098f2da-830e-428d-d2f6-05fb07e96ce6"
      },
      "outputs": [
        {
          "data": {
            "image/png": "[encoded data removed]",
            "text/plain": [
              "<Figure size 576x432 with 1 Axes>"
            ]
          },
          "metadata": {
            "needs_background": "light"
          },
          "output_type": "display_data"
        }
      ],
      "source": [
        "import matplotlib.pyplot as plt\n",
        "import seaborn as sns\n",
        "import numpy as np\n",
        "\n",
        "\n",
        "# Create a heatmap\n",
        "plt.figure(figsize=(8, 6))\n",
        "sns.heatmap(baseline, annot=True, fmt=\"d\", cmap=\"Blues\", linewidths=.5, square=True, cbar=False,\n",
        "            xticklabels=[\"Aneurysym\", \"Cancer\", \"Tumor\"],\n",
        "            yticklabels=[\"Aneurysym\", \"Cancer\", \"Tumor\"])\n",
        "\n",
        "plt.xlabel('Predicted')\n",
        "plt.ylabel('Actual')\n",
        "plt.title('Confusion Matrix of Baseline Model')\n",
        "plt.show()\n"
      ]
    },
    {
      "cell_type": "code",
      "execution_count": 11,
      "metadata": {
        "id": "Si2lKWLTRl2r"
      },
      "outputs": [],
      "source": [
        "with open('results_cnn_lr.pkl', 'rb') as fp:\n",
        "    res_lr = pickle.load(fp)\n",
        "    result_pickle_lr = res_lr"
      ]
    },
    {
      "cell_type": "code",
      "execution_count": 12,
      "metadata": {
        "colab": {
          "base_uri": "https://localhost:8080/"
        },
        "id": "8W868WPvbS71",
        "outputId": "297ecc6c-d23f-4ae4-c1b3-d4726206ee97"
      },
      "outputs": [
        {
          "data": {
            "text/plain": [
              "['Learning Rate 10',\n",
              " 'Learning Rate 1',\n",
              " 'Learning Rate 0.1',\n",
              " 'Learning Rate 0.01',\n",
              " 'Learning Rate 0.001',\n",
              " 'Learning Rate 0.0001']"
            ]
          },
          "execution_count": 12,
          "metadata": {},
          "output_type": "execute_result"
        }
      ],
      "source": [
        "result_pickle_lr['params']"
      ]
    },
    {
      "cell_type": "code",
      "execution_count": 13,
      "metadata": {
        "colab": {
          "base_uri": "https://localhost:8080/"
        },
        "id": "BmgfY5AzbZPo",
        "outputId": "06501de7-5886-4cba-ad41-f40cef695098"
      },
      "outputs": [
        {
          "data": {
            "text/plain": [
              "[0.3382352941176471,\n",
              " 0.3627450980392157,\n",
              " 0.3382352941176471,\n",
              " 0.9901960784313726,\n",
              " 0.9852941176470589,\n",
              " 0.7990196078431373]"
            ]
          },
          "execution_count": 13,
          "metadata": {},
          "output_type": "execute_result"
        }
      ],
      "source": [
        "result_pickle_lr['accuracy_train']"
      ]
    },
    {
      "cell_type": "code",
      "execution_count": 14,
      "metadata": {
        "colab": {
          "base_uri": "https://localhost:8080/"
        },
        "id": "sL6_EcpQbaBI",
        "outputId": "eed65557-96e2-46e6-b989-1419e2954d5f"
      },
      "outputs": [
        {
          "data": {
            "text/plain": [
              "[0.2692307692307692,\n",
              " 0.3076923076923077,\n",
              " 0.2692307692307692,\n",
              " 0.9615384615384616,\n",
              " 0.9807692307692307,\n",
              " 0.7115384615384616]"
            ]
          },
          "execution_count": 14,
          "metadata": {},
          "output_type": "execute_result"
        }
      ],
      "source": [
        "result_pickle_lr['accuracy_test']"
      ]
    },
    {
      "cell_type": "code",
      "execution_count": 15,
      "metadata": {
        "colab": {
          "base_uri": "https://localhost:8080/"
        },
        "id": "2QYdgY9Wbchd",
        "outputId": "0f344397-5922-49cf-b0f4-6481185b58d6"
      },
      "outputs": [
        {
          "name": "stdout",
          "output_type": "stream",
          "text": [
            "              precision    recall  f1-score   support\n",
            "\n",
            "           0       0.93      1.00      0.97        14\n",
            "           1       1.00      0.94      0.97        16\n",
            "           2       1.00      1.00      1.00        22\n",
            "\n",
            "    accuracy                           0.98        52\n",
            "   macro avg       0.98      0.98      0.98        52\n",
            "weighted avg       0.98      0.98      0.98        52\n",
            "\n"
          ]
        }
      ],
      "source": [
        "print(result_pickle_lr['classification_report_test'][4])"
      ]
    },
    {
      "cell_type": "code",
      "execution_count": 16,
      "metadata": {
        "colab": {
          "base_uri": "https://localhost:8080/"
        },
        "id": "IiocXhAKbdXQ",
        "outputId": "2585c471-61bd-498e-92ca-d24b0265697a"
      },
      "outputs": [
        {
          "name": "stdout",
          "output_type": "stream",
          "text": [
            "[[14  0  0]\n",
            " [ 1 15  0]\n",
            " [ 0  0 22]]\n"
          ]
        }
      ],
      "source": [
        "print(result_pickle_lr['confusion_matrix_test'][4])"
      ]
    }
  ],
  "metadata": {
    "colab": {
      "provenance": []
    },
    "kernelspec": {
      "display_name": "Python 3",
      "name": "python3"
    },
    "language_info": {
      "codemirror_mode": {
        "name": "ipython",
        "version": 3
      },
      "file_extension": ".py",
      "mimetype": "text/x-python",
      "name": "python",
      "nbconvert_exporter": "python",
      "pygments_lexer": "ipython3",
      "version": "3.10.2"
    }
  },
  "nbformat": 4,
  "nbformat_minor": 0
}
